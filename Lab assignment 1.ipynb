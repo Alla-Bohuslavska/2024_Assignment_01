{
 "cells": [
  {
   "cell_type": "markdown",
   "id": "4112979a-7eb6-429c-993a-bf554d319d74",
   "metadata": {},
   "source": [
    "## Lab Assignment: Statistical Inference using R ##\n",
    "\n",
    "In this lab, we investigate the ways in which the statistics from a random sample of data can serve as point estimates for population parameters. We’re interested in formulating a sampling distribution of our estimate in order to learn about the properties of the estimate, such as its distribution.\n",
    "\n",
    "## The data ##\n",
    "\n",
    "We consider real estate data from the city of Ames, Iowa. The details of every real estate transaction in Ames is recorded by the City Assessor’s office. Our particular focus for this lab will be all residential home sales in Ames between 2006 and 2010. This collection represents our population of interest. In this lab we would like to learn about these home sales by taking smaller samples from the full population. Let’s load the data.\n",
    "\n",
    "Use the code below:\n",
    "\n",
    "download.file(\"http://www.openintro.org/stat/data/ames.RData\", destfile = \"ames.RData\")\n",
    "\n",
    "load(\"ames.RData\")"
   ]
  },
  {
   "cell_type": "code",
   "execution_count": 2,
   "id": "61600cbf-f678-4439-b5ac-9b3b941dab7a",
   "metadata": {},
   "outputs": [],
   "source": [
    "# download file"
   ]
  },
  {
   "cell_type": "markdown",
   "id": "fd85c056-8fa5-434e-9b18-7221561b4226",
   "metadata": {},
   "source": [
    "We see that there are quite a few variables in the data set, enough to do a very in-depth analysis. For this lab, we’ll restrict our attention to just two of the variables: the above ground living area of the house in square feet (Gr.Liv.Area) and the sale price (SalePrice). To save some effort throughout the lab, create two variables with short names that represent these two variables.\n",
    "\n",
    "For instance:\n",
    "\n",
    "area <- ames$Gr.Liv.Area\n",
    "\n",
    "price <- ames$SalePrice"
   ]
  },
  {
   "cell_type": "code",
   "execution_count": 3,
   "id": "c3db31c9-ad55-4e92-a2fe-72856dfcb73c",
   "metadata": {},
   "outputs": [],
   "source": [
    "# create two variables"
   ]
  },
  {
   "cell_type": "markdown",
   "id": "fd9d7210-85a3-4245-b787-d0c8eb295639",
   "metadata": {},
   "source": [
    "Let’s look at the distribution of area in our population of home sales by calculating a few summary statistics and making a histogram."
   ]
  },
  {
   "cell_type": "code",
   "execution_count": 4,
   "id": "c81eef19-ac85-40f2-af8d-21d5e6950c74",
   "metadata": {},
   "outputs": [],
   "source": [
    "# Answer"
   ]
  },
  {
   "cell_type": "markdown",
   "id": "626bc4e4-d5d3-4ad5-b505-39ebc70c17f5",
   "metadata": {},
   "source": [
    "## Exercise 1. ##\n",
    "\n",
    "Describe this population distribution."
   ]
  },
  {
   "cell_type": "code",
   "execution_count": 5,
   "id": "d90e9e5b-0894-4725-8457-8a2597648ca7",
   "metadata": {},
   "outputs": [],
   "source": [
    "# Answer"
   ]
  },
  {
   "cell_type": "markdown",
   "id": "501990b5-6dde-482d-b3bd-275d57168f1c",
   "metadata": {},
   "source": [
    "## The unknown sampling distribution ##\n",
    "\n",
    "In this lab we have access to the entire population, but this is rarely the case in real life. Gathering information on an entire population is often extremely costly or impossible. Because of this, we often take a sample of the population and use that to understand the properties of the population.\n",
    "\n",
    "If we were interested in estimating the mean living area in Ames based on a sample, we can use the following command to survey the population.\n",
    "\n",
    "samp1 <- sample(area, 50)"
   ]
  },
  {
   "cell_type": "code",
   "execution_count": 6,
   "id": "5cd4b5d1-4397-4571-98af-1a3c3a60d12f",
   "metadata": {},
   "outputs": [],
   "source": [
    "# sample1"
   ]
  },
  {
   "cell_type": "markdown",
   "id": "a7b62387-c443-48d9-8169-26a34e721e4b",
   "metadata": {},
   "source": [
    "This command collects a simple random sample of size 50 from the vector area, which is assigned to samp1. This is like going into the City Assessor’s database and pulling up the files on 50 random home sales. Working with these 50 files would be considerably simpler than working with all 2930 home sales."
   ]
  },
  {
   "cell_type": "markdown",
   "id": "a8fc90fd-75a2-4d1a-a3ce-fe1b011e96a2",
   "metadata": {},
   "source": [
    "## Exercise 2. ##\n",
    "Describe the distribution of this sample. How does it compare to the distribution of the population?"
   ]
  },
  {
   "cell_type": "code",
   "execution_count": null,
   "id": "733470c0-b376-4921-9de7-9615cfbc1025",
   "metadata": {},
   "outputs": [],
   "source": [
    "# answer"
   ]
  },
  {
   "cell_type": "markdown",
   "id": "fa762f9f-2b9d-4cf1-81e2-df39b026098f",
   "metadata": {},
   "source": [
    "If we’re interested in estimating the average living area in homes in Ames using the sample, our best single guess is the sample mean."
   ]
  },
  {
   "cell_type": "code",
   "execution_count": 8,
   "id": "f6ef1440-2cb8-4c6a-a1fa-e7c57808a155",
   "metadata": {},
   "outputs": [],
   "source": [
    "# mean"
   ]
  },
  {
   "cell_type": "markdown",
   "id": "5e39adee-f2ac-4a6e-af22-68ffb7e5a71f",
   "metadata": {},
   "source": [
    "Depending on which 50 homes you selected, your estimate could be a bit above or a bit below the true population mean of 1499.69 square feet. In general, though, the sample mean turns out to be a pretty good estimate of the average living area, and we were able to get it by sampling less than 3% of the population."
   ]
  },
  {
   "cell_type": "markdown",
   "id": "7b494cf2-1dbd-47f4-9fee-a41c0253e9d8",
   "metadata": {},
   "source": [
    "## Exercise 3 ##\n",
    "\n",
    "Take a second sample, also of size 50, and call it samp2. How does the mean of samp2 compare with the mean of samp1? Suppose we took two more samples, one of size 100 and one of size 1000. Which would you think would provide a more accurate estimate of the population mean?"
   ]
  },
  {
   "cell_type": "code",
   "execution_count": null,
   "id": "ca144d78-131b-4bbf-ac59-633cd4e11837",
   "metadata": {},
   "outputs": [],
   "source": [
    "# answer"
   ]
  },
  {
   "cell_type": "markdown",
   "id": "3cee7de9-d48f-4a6b-85e9-348d89809ec4",
   "metadata": {},
   "source": [
    "Not surprisingly, every time we take another random sample, we get a different sample mean. It’s useful to get a sense of just how much variability we should expect when estimating the population mean this way. The distribution of sample means, called the sampling distribution, can help us understand this variability. In this lab, because we have access to the population, we can build up the sampling distribution for the sample mean by repeating the above steps many times. Here we will generate 5000 samples and compute the sample mean of each.\n",
    "\n",
    "sample_means50 <- rep(NA, 5000)\n",
    "\n",
    "for(i in 1:5000){\n",
    "   samp <- sample(area, 50)\n",
    "   sample_means50[i] <- mean(samp)\n",
    "   }\n",
    "\n",
    "hist(sample_means50)"
   ]
  },
  {
   "cell_type": "code",
   "execution_count": 7,
   "id": "7fcd109c-38b8-4e34-98dc-04af7c92e94c",
   "metadata": {},
   "outputs": [
    {
     "data": {
      "image/png": "[encoded data removed]",
      "text/plain": [
       "Plot with title “Histogram of sample_means50”"
      ]
     },
     "metadata": {
      "image/png": {
       "height": 420,
       "width": 420
      }
     },
     "output_type": "display_data"
    }
   ],
   "source": [
    "# run the code"
   ]
  },
  {
   "cell_type": "markdown",
   "id": "25f8df57-09b1-4d2f-9d4d-f05d99fae702",
   "metadata": {},
   "source": [
    "If you would like to adjust the bin width of your histogram to show a little more detail, you can do so by changing the breaks argument.\n",
    "\n",
    "hist(sample_means50, breaks = 25)"
   ]
  },
  {
   "cell_type": "code",
   "execution_count": 1,
   "id": "98110098-8a68-46e9-8ca9-75cdb430b10f",
   "metadata": {},
   "outputs": [],
   "source": [
    "# hist"
   ]
  },
  {
   "cell_type": "markdown",
   "id": "4bd943d2-83a4-4003-a9ca-585f6158ab97",
   "metadata": {},
   "source": [
    "Here we use R to take 5000 samples of size 50 from the population, calculate the mean of each sample, and store each result in a vector called sample_means50. "
   ]
  },
  {
   "cell_type": "markdown",
   "id": "7d5f1f9d-4332-4f1f-a966-1904b5794d61",
   "metadata": {},
   "source": [
    "## Exercise 4 ## \n",
    "How many elements are there in sample_means50? Describe the sampling distribution, and be sure to specifically note its center. Would you expect the distribution to change if we instead collected 50,000 sample means?"
   ]
  },
  {
   "cell_type": "code",
   "execution_count": null,
   "id": "f17e6ca6-157d-4aee-99be-66d3760e4dd4",
   "metadata": {},
   "outputs": [],
   "source": [
    "# answer"
   ]
  },
  {
   "cell_type": "markdown",
   "id": "0a6c0bd8-9626-4ff6-9df9-81e30da8bcc0",
   "metadata": {},
   "source": [
    "## Exercise 5 ##\n",
    "\n",
    "To make sure you understand what you’ve done in this loop, try running a smaller version. Initialize a vector of 100 zeros called sample_means_small. Run a loop that takes a sample of size 50 from area and stores the sample mean in sample_means_small, but only iterate from 1 to 100. Print the output to your screen (type sample_means_small into the console and press enter). How many elements are there in this object called sample_means_small? What does each element represent?"
   ]
  },
  {
   "cell_type": "code",
   "execution_count": null,
   "id": "d6adde13-8755-4e67-b7d3-13b440c325fe",
   "metadata": {},
   "outputs": [],
   "source": [
    "# answer"
   ]
  }
 ],
 "metadata": {
  "kernelspec": {
   "display_name": "R",
   "language": "R",
   "name": "ir"
  },
  "language_info": {
   "codemirror_mode": "r",
   "file_extension": ".r",
   "mimetype": "text/x-r-source",
   "name": "R",
   "pygments_lexer": "r",
   "version": "4.3.3"
  }
 },
 "nbformat": 4,
 "nbformat_minor": 5
}
